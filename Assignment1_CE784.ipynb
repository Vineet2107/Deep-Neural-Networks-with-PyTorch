{
  "nbformat": 4,
  "nbformat_minor": 0,
  "metadata": {
    "colab": {
      "name": "Assignment1_CE784.ipynb",
      "provenance": [],
      "collapsed_sections": [],
      "mount_file_id": "1YITP5a5VuvbL9AeQ-PhJGwFv9MpS0Qou",
      "authorship_tag": "ABX9TyOZ28RAW9JXMa3rYbXgyg7S",
      "include_colab_link": true
    },
    "kernelspec": {
      "name": "python3",
      "display_name": "Python 3"
    },
    "language_info": {
      "name": "python"
    }
  },
  "cells": [
    {
      "cell_type": "markdown",
      "metadata": {
        "id": "view-in-github",
        "colab_type": "text"
      },
      "source": [
        "<a href=\"https://colab.research.google.com/github/Vineet2107/Deep-Neural-Networks-with-PyTorch/blob/main/Assignment1_CE784.ipynb\" target=\"_parent\"><img src=\"https://colab.research.google.com/assets/colab-badge.svg\" alt=\"Open In Colab\"/></a>"
      ]
    },
    {
      "cell_type": "code",
      "source": [
        "import matplotlib.pyplot as plt\n",
        "import os\n",
        "import glob\n",
        "from skimage import io, color\n",
        "from skimage.feature.texture import greycomatrix, greycoprops\n",
        "import numpy as np\n",
        "import pandas as pd\n",
        "from scipy.stats import kurtosis\n",
        "from scipy.stats import skew\n",
        "from scipy.stats import entropy\n",
        "import cv2 \n",
        "import pandas as pd\n",
        "import numpy as np\n",
        "from sklearn.model_selection import train_test_split\n",
        "import tensorflow as tf\n",
        "from tensorflow import keras\n",
        "from tensorflow.keras import layers, callbacks\n",
        "% matplotlib inline"
      ],
      "metadata": {
        "id": "gTqUwVaVyItU"
      },
      "execution_count": 54,
      "outputs": []
    },
    {
      "cell_type": "code",
      "source": [
        "train_path = '/content/drive/MyDrive/mod_ravelling_dataset/train'\n",
        "test_path = '/content/drive/MyDrive/mod_ravelling_dataset/test'"
      ],
      "metadata": {
        "id": "FKDsbN3nziSX"
      },
      "execution_count": 55,
      "outputs": []
    },
    {
      "cell_type": "code",
      "source": [
        "Non_raveling_data = '/content/drive/MyDrive/mod_ravelling_dataset/train/Non_raveling'\n",
        "#Raveling = train_path + '/Raveling'"
      ],
      "metadata": {
        "id": "044J6hjc1X0z"
      },
      "execution_count": 56,
      "outputs": []
    },
    {
      "cell_type": "code",
      "source": [
        "Non_raveling_data"
      ],
      "metadata": {
        "colab": {
          "base_uri": "https://localhost:8080/",
          "height": 36
        },
        "id": "lPhMNjvZ7tSn",
        "outputId": "18046972-8496-4da7-9db6-2890a4aec801"
      },
      "execution_count": 57,
      "outputs": [
        {
          "output_type": "execute_result",
          "data": {
            "application/vnd.google.colaboratory.intrinsic+json": {
              "type": "string"
            },
            "text/plain": [
              "'/content/drive/MyDrive/mod_ravelling_dataset/train/Non_raveling'"
            ]
          },
          "metadata": {},
          "execution_count": 57
        }
      ]
    },
    {
      "cell_type": "code",
      "source": [
        "list_nr = os.listdir(Non_raveling_data)"
      ],
      "metadata": {
        "id": "7L9yei2u45R6"
      },
      "execution_count": 58,
      "outputs": []
    },
    {
      "cell_type": "code",
      "source": [
        "list_nr[0]"
      ],
      "metadata": {
        "colab": {
          "base_uri": "https://localhost:8080/",
          "height": 36
        },
        "id": "zIjTrPAA8L4_",
        "outputId": "f61c61e2-1a7d-4454-ad71-e303ba02bad3"
      },
      "execution_count": 59,
      "outputs": [
        {
          "output_type": "execute_result",
          "data": {
            "application/vnd.google.colaboratory.intrinsic+json": {
              "type": "string"
            },
            "text/plain": [
              "'image466.jpg'"
            ]
          },
          "metadata": {},
          "execution_count": 59
        }
      ]
    },
    {
      "cell_type": "code",
      "source": [
        "list_r = (os.listdir(Raveling))"
      ],
      "metadata": {
        "id": "UbK2DQWU5OyI"
      },
      "execution_count": 10,
      "outputs": []
    },
    {
      "cell_type": "code",
      "source": [
        "list_r[:5]"
      ],
      "metadata": {
        "colab": {
          "base_uri": "https://localhost:8080/"
        },
        "id": "9ESuginqAXk0",
        "outputId": "b02510e5-f7e6-45f1-919a-bb81171bbf37"
      },
      "execution_count": 41,
      "outputs": [
        {
          "output_type": "execute_result",
          "data": {
            "text/plain": [
              "['image508.jpg', 'image644.jpg', 'image24.jpg', 'image89.jpg', 'image263.jpg']"
            ]
          },
          "metadata": {},
          "execution_count": 41
        }
      ]
    },
    {
      "cell_type": "code",
      "source": [
        "img = []"
      ],
      "metadata": {
        "id": "eT6MH_m7Etq9"
      },
      "execution_count": 60,
      "outputs": []
    },
    {
      "cell_type": "code",
      "source": [
        "img_nr = []\n",
        "\n",
        "for i in range(len(list_nr)):\n",
        "  img = io.imread(os.path.join(Non_raveling_data,list_nr[i]))\n",
        "  img_nr.append(np.array(img))\n",
        "  io.imshow(img)\n"
      ],
      "metadata": {
        "colab": {
          "base_uri": "https://localhost:8080/",
          "height": 333
        },
        "id": "G7ZWAKXX5b95",
        "outputId": "88714147-589d-4bd1-8de5-af44ed362e28"
      },
      "execution_count": 70,
      "outputs": [
        {
          "output_type": "stream",
          "name": "stderr",
          "text": [
            "/usr/local/lib/python3.7/dist-packages/skimage/io/_plugins/matplotlib_plugin.py:150: UserWarning: Low image data range; displaying image with stretched contrast.\n",
            "  lo, hi, cmap = _get_display_range(image)\n"
          ]
        },
        {
          "output_type": "display_data",
          "data": {
            "image/png": "[encoded data removed]",
            "text/plain": [
              "<Figure size 432x288 with 2 Axes>"
            ]
          },
          "metadata": {
            "needs_background": "light"
          }
        }
      ]
    },
    {
      "cell_type": "code",
      "source": [
        "len(img_nr)"
      ],
      "metadata": {
        "colab": {
          "base_uri": "https://localhost:8080/"
        },
        "id": "dFeaF1-QFJn9",
        "outputId": "a3e10225-82b4-4ec7-be45-7a71da58b034"
      },
      "execution_count": 71,
      "outputs": [
        {
          "output_type": "execute_result",
          "data": {
            "text/plain": [
              "351"
            ]
          },
          "metadata": {},
          "execution_count": 71
        }
      ]
    },
    {
      "cell_type": "code",
      "source": [
        "img_nr = np.array(img_nr)"
      ],
      "metadata": {
        "id": "rlEbdlmHLUd4"
      },
      "execution_count": 73,
      "outputs": []
    },
    {
      "cell_type": "code",
      "source": [
        "img_nr.shape"
      ],
      "metadata": {
        "colab": {
          "base_uri": "https://localhost:8080/"
        },
        "id": "lDK7YBLGKW67",
        "outputId": "43a2c024-bf1a-47b3-ae8d-25497e59c8fd"
      },
      "execution_count": 74,
      "outputs": [
        {
          "output_type": "execute_result",
          "data": {
            "text/plain": [
              "(351, 100, 100, 3)"
            ]
          },
          "metadata": {},
          "execution_count": 74
        }
      ]
    },
    {
      "cell_type": "code",
      "source": [
        "def mean(arr[][]):\n",
        "  \n"
      ],
      "metadata": {
        "id": "_ggQVx8aO5WH"
      },
      "execution_count": null,
      "outputs": []
    },
    {
      "cell_type": "code",
      "source": [
        ""
      ],
      "metadata": {
        "id": "7-mFh_hCO5ZT"
      },
      "execution_count": null,
      "outputs": []
    },
    {
      "cell_type": "code",
      "source": [
        ""
      ],
      "metadata": {
        "id": "JEiVY3rkO5b_"
      },
      "execution_count": null,
      "outputs": []
    },
    {
      "cell_type": "code",
      "source": [
        ""
      ],
      "metadata": {
        "id": "u2SMnk-yO5fe"
      },
      "execution_count": null,
      "outputs": []
    },
    {
      "cell_type": "code",
      "source": [
        "img_prop = [][]\n",
        "\n",
        "for i in range(len(images_nr)):\n",
        "  imgprop[i][0] = mean(image_nr[i][][0])\n",
        "  imgprop[i][1] = stdev(image_nr[i][][1])\n",
        "  imgprop[i][2] = kurtosis(image_nr[i][][2])\n",
        "  imgprop[i][3] = skewness(image_nr[i][][3])\n",
        "  imgprop[i][4] = mean(image_nr[i][][0])\n",
        "  imgprop[i][5] = stdev(image_nr[i][][1])\n",
        "  imgprop[i][6] = kurtosis(image_nr[i][][2])\n",
        "  imgprop[i][7] = skewness(image_nr[i][][3])\n",
        "  imgprop[i][8] = mean(image_nr[i][][0])\n",
        "  imgprop[i][9] = stdev(image_nr[i][][1])\n",
        "  imgprop[i][10] = kurtosis(image_nr[i][][2])\n",
        "  imgprop[i][11] = skewness(image_nr[i][][3])\n",
        "    \n",
        "  \n"
      ],
      "metadata": {
        "id": "JfJ1vBqKFLUo"
      },
      "execution_count": null,
      "outputs": []
    },
    {
      "cell_type": "code",
      "source": [
        ""
      ],
      "metadata": {
        "id": "f0u6wbLbFLl-"
      },
      "execution_count": null,
      "outputs": []
    },
    {
      "cell_type": "code",
      "source": [
        ""
      ],
      "metadata": {
        "id": "lhWgLvicFLqM"
      },
      "execution_count": null,
      "outputs": []
    },
    {
      "cell_type": "code",
      "source": [
        ""
      ],
      "metadata": {
        "id": "U4nDsUClFLue"
      },
      "execution_count": null,
      "outputs": []
    },
    {
      "cell_type": "code",
      "source": [
        ""
      ],
      "metadata": {
        "id": "g3OJjgtsFLx3"
      },
      "execution_count": null,
      "outputs": []
    },
    {
      "cell_type": "code",
      "source": [
        "images_nr = np.array(images_nr)"
      ],
      "metadata": {
        "id": "RfysqRQqB5Eh"
      },
      "execution_count": 49,
      "outputs": []
    },
    {
      "cell_type": "code",
      "source": [
        "images_nr.shape"
      ],
      "metadata": {
        "colab": {
          "base_uri": "https://localhost:8080/"
        },
        "id": "lFXdrVMlBf2b",
        "outputId": "d097eb62-7157-4797-8070-4e52b19d713f"
      },
      "execution_count": 52,
      "outputs": [
        {
          "output_type": "execute_result",
          "data": {
            "text/plain": [
              "(351, 100, 100, 3)"
            ]
          },
          "metadata": {},
          "execution_count": 52
        }
      ]
    },
    {
      "cell_type": "code",
      "source": [
        "path = os.path.join(Non_raveling_data,list_nr[0])"
      ],
      "metadata": {
        "id": "uHoUh-tk9gmO"
      },
      "execution_count": 53,
      "outputs": []
    },
    {
      "cell_type": "code",
      "source": [
        "path"
      ],
      "metadata": {
        "colab": {
          "base_uri": "https://localhost:8080/",
          "height": 36
        },
        "id": "RNpsAwFc9l4r",
        "outputId": "34db3eda-60e4-4837-cadf-9e2b65c7c7fb"
      },
      "execution_count": 28,
      "outputs": [
        {
          "output_type": "execute_result",
          "data": {
            "application/vnd.google.colaboratory.intrinsic+json": {
              "type": "string"
            },
            "text/plain": [
              "'/content/drive/MyDrive/mod_ravelling_dataset/train/Non_raveling/image466.jpg'"
            ]
          },
          "metadata": {},
          "execution_count": 28
        }
      ]
    },
    {
      "cell_type": "code",
      "source": [
        "for i in range(10):\n",
        "  img = io.imread(os.path.join(Non_raveling_data,list_nr[i]))\n",
        "  io.imshow(img)\n"
      ],
      "metadata": {
        "colab": {
          "base_uri": "https://localhost:8080/",
          "height": 297
        },
        "id": "xiGk1pHn6p3L",
        "outputId": "9e43c950-4ea3-4bb9-8f3e-7d38ac17147d"
      },
      "execution_count": 30,
      "outputs": [
        {
          "output_type": "display_data",
          "data": {
            "image/png": "[encoded data removed]",
            "text/plain": [
              "<Figure size 432x288 with 1 Axes>"
            ]
          },
          "metadata": {
            "needs_background": "light"
          }
        }
      ]
    },
    {
      "cell_type": "code",
      "source": [
        ""
      ],
      "metadata": {
        "id": "La-_OR0y9oep"
      },
      "execution_count": null,
      "outputs": []
    }
  ]
}